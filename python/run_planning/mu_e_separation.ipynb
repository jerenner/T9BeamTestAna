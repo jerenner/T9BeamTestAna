{
 "cells": [
  {
   "cell_type": "markdown",
   "metadata": {},
   "source": [
    "## Considerations for running time for $\\mu-e$ separation measurements\n",
    "\n",
    "Consider an analysis of a $\\mu$ enriched sample (using beamline measurements) from a data run lasting $h$ hours. As a simplifying assumption, only muon and electron events are considered.\n",
    "A table of parameters used in the formulae appear at the bottom of this cell.\n",
    "\n",
    "### Beamline selection\n",
    "\n",
    "Prior to making the measurement, the numbers of muon and electron events in the sample are described by random variables (RV, denoted by capital letters) whose expectations are:\n",
    "\n",
    "$$\n",
    "E[N_\\mu] = h \\times 60 \\times s_{pm} \\times \\mu_{ps} \\times \\mu_t \\times \\mu_f\n",
    "$$\n",
    "$$\n",
    "E[N_e] = h \\times 60 \\times s_{pm} \\times e_{ps} \\times e_t \\times e_f\n",
    "$$\n",
    "\n",
    "In absence of systematic uncertainty, the numbers in a data sample are outcomes of Poisson RVs, $N_\\mu$ and $N_e$, having those expectations (and variance).\n",
    "\n",
    "Consider the one standard deviation systematic uncertainties in these expectation values arising from their offline selection efficiencies:\n",
    "\n",
    "$$\n",
    "\\sigma(E[N_\\mu]) = E[N_\\mu] \\, \\delta_{\\mu f}\n",
    "$$\n",
    "$$\n",
    "\\sigma(E[N_e]) = E[N_e] \\, \\delta_{ef}\n",
    "$$\n",
    "\n",
    "where $\\delta$ refers to the one standard deviation relative uncertainty of the selection efficiency. Combining the statistical and systematic variances yields:\n",
    "\n",
    "$$\n",
    "V[N_\\mu] =  E[N_\\mu] + (\\sigma(E[N_\\mu]))^2 = E[N_\\mu] (1 +  E[N_\\mu] \\,\\delta_{\\mu f}^2)\n",
    "$$\n",
    "$$\n",
    "V[N_e] =  E[N_e] + (\\sigma(E[N_e]))^2 = E[N_e] (1 +  E[N_e] \\, \\delta_{ef}^2)\n",
    "$$\n",
    "\n",
    "We can treat the RVs, $N_\\mu$ and $N_e$, as Gaussians with these variances. The total number of events in the beamline selection sample is\n",
    "\n",
    "$$\n",
    "N_b = N_\\mu + N_e = N_\\mu ( 1 + N_e/N_\\mu) = N_\\mu ( 1 + R_{e \\mu})\n",
    "$$\n",
    "\n",
    "The beamline selection will be almost exclusively muons, so the number of muon events in the sample will be known well and does not need to be treated as an RV, since its\n",
    "variance is negligible.\n",
    "\n",
    "$$\n",
    "n_\\mu = n_b / (1 + E[N_e]/E[N_\\mu])\n",
    "$$\n",
    "\n",
    "where lower case variables are outcomes of the corresponding RVs.\n",
    "\n",
    "### WCTE selection\n",
    "\n",
    "The events are analyzed further by applying a particle identification algorithm with the WCTE mPMT data.\n",
    "The WCTE electron selection includes misidentified muons and intrinsic electrons.\n",
    "Prior to performing the WCTE selection, the number of events in the WCTE electron sample would be described the random variable, $N_{We}$:\n",
    "\n",
    "$$\n",
    "N_{We} = N_{We\\mu} + N_{Wee}\n",
    "$$\n",
    "\n",
    "In absense of systematic uncertainty, the first RV is binomial with $n_\\mu$ trials and probability of mis-identification $\\mu_{We}$.\n",
    "Since the mis-identification probability is likely to be much less than 1%, it is well approximated by a Poisson distribution with expectation $n_\\mu \\, \\mu_{We}$.\n",
    "The second RV is Poisson with expectation $E[N_e]\\,e_{We}$.\n",
    "\n",
    "Including systematic uncertainty, the combined variance is:\n",
    "\n",
    "$$\n",
    "V[N_{We}] = n_\\mu \\, \\mu_{We} + E[N_e]\\,e_{We} + (\\delta(E[N_e])\\,e_{We})^2 = n_\\mu \\, \\mu_{We} + E[N_e]\\,e_{We} (1 + E[N_e] \\, \\delta_{ef}^2 \\,e_{We}^2)\n",
    "$$\n",
    "\n",
    "\n",
    "The unbiased estimator for the $\\mu$ mis-identification probability (correcting for the intrinsic electrons in the sample) is the RV:\n",
    "\n",
    "$$\n",
    "M_{We} = (N_{We} - E[N_e] \\, e_{We})/n_\\mu\n",
    "$$\n",
    "\n",
    "Whose expectation and variance are:\n",
    "\n",
    "$$\n",
    "E[M_{We}] = (E[N_{We}] - E[N_{Wee}])/n_\\mu =  E[N_{We\\mu}]/n_\\mu =  \\mu_{We}\n",
    "$$\n",
    "$$\n",
    "V[M_{We}] = V[N_{We}]  / n_\\mu^2\n",
    "$$\n",
    "\n",
    "Finally, the relative uncertainty of the $\\mu$ mis-identification probability is:\n",
    "\n",
    "$$\n",
    "\\delta\\mu_{We} = \\sqrt{V[M_{We}]} / \\mu_{We}\n",
    "$$\n",
    "\n",
    "### Adjustable parameters\n",
    "\n",
    " * h ($h$): number of hours\n",
    " * spm ($s_{pm}$): number of spills per minute\n",
    " * mps ($\\mu_{ps}$): number of muons per spill\n",
    " * eps ($e_{ps}$): number of electrons per spill\n",
    " * mt ($\\mu_t$): fraction of muons accepted by trigger (including deadtime effect)\n",
    " * et ($e_t$): fraction of electrons accepted by trigger (including electron veto and deadtime)\n",
    " * mf ($\\mu_f$): efficiency for offline selection to accept a triggered muon\n",
    " * dmf ($\\delta_{\\mu f}$): relative one standard deviation uncertainty of the muon selection efficiency  (not important)\n",
    " * ef ($e_f$): efficiency for offline selection to accept a triggered electron\n",
    " * def ($\\delta_{ef}$): relative one standard deviation uncertainty of the electron selection efficiency  (important)\n",
    " * mwe ($\\mu_{We}$): probability for WCTE to mis-identify a $\\mu$ as an electron\n",
    " * ewe ($e_{We}$): probability for WCTE to correctly identify an electron\n",
    "\n",
    "### Outputs\n",
    "\n",
    " * nm ($E[N_\\mu]$): expected number of muons in the beamline selection (also used to define $n_\\mu$)\n",
    " * ne ($E[N_e]$): expected number of electrons in the beamline selection\n",
    " * vnm ($V[N_\\mu]$): variance in RV representing number of muons in the beamline selection\n",
    " * vne ($V[N_e]$): variance in RV representing number of electrons in the beamline selection\n",
    " * we ($E[N_{We}]$): expected number of events identified as electrons by WCTE\n",
    " * wem ($E[N_{We\\mu}]$): expected number of muon events identified as electrons by WCTE\n",
    " * wee ($E[N_{Wee}]$): expected number of electron events identified as electrons by WCTE\n",
    " * vwe ($V[N_{We}]$): variance in RV representing number of events identified as electrons by WCTE\n",
    " * vmwe ($V[M_{We}]$): variance of unbiased estimator for the WCTE $\\mu$ mis-identification probability\n",
    " * dmwe ($\\delta\\mu_{We}$): one standard deviation relative uncertainty for the WCTE $\\mu$ mis-identification probability"
   ]
  },
  {
   "cell_type": "code",
   "execution_count": 1,
   "metadata": {
    "ExecuteTime": {
     "start_time": "2023-11-14T18:09:15.994080Z",
     "end_time": "2023-11-14T18:09:16.502674Z"
    }
   },
   "outputs": [],
   "source": [
    "import numpy as np\n",
    "import matplotlib.pyplot as plt\n",
    "import copy"
   ]
  },
  {
   "cell_type": "code",
   "execution_count": 2,
   "metadata": {
    "ExecuteTime": {
     "start_time": "2023-11-14T18:09:19.077973Z",
     "end_time": "2023-11-14T18:09:19.092105Z"
    }
   },
   "outputs": [],
   "source": [
    "# Adjustable parameters: Make a copy and adjust.\n",
    "\n",
    "default_parameters = {\n",
    "    'h' : 20,\n",
    "    'spm' : 2,\n",
    "    'mps' : 500,\n",
    "    'eps' : 70000,\n",
    "    'mt' : 0.5,\n",
    "    'et'  : 0.5/20.,\n",
    "    'mf' : 0.7,\n",
    "    'dmf': 0.1,\n",
    "    'ef'  : 1.E-5,\n",
    "    'def' : 0.5,\n",
    "    'mwe' : 0.001,\n",
    "    'ewe' : 0.9\n",
    "}"
   ]
  },
  {
   "cell_type": "code",
   "execution_count": 3,
   "metadata": {
    "ExecuteTime": {
     "start_time": "2023-11-14T18:09:25.986926Z",
     "end_time": "2023-11-14T18:09:26.000014Z"
    }
   },
   "outputs": [],
   "source": [
    "# take the parameter values and do the calculations described above. Return a dictionary with the results.\n",
    "\n",
    "def calculate(p):\n",
    "    nm = p['h'] * 60 * p['spm'] * p['mps'] * p['mt'] * p['mf']\n",
    "    ne = p['h'] * 60 * p['spm'] * p['eps'] * p['et'] * p['ef']\n",
    "\n",
    "    vnm = nm * (1. + nm * p['dmf']**2)\n",
    "    vne = ne * (1. + ne * p['def']**2)\n",
    "\n",
    "    # Assume that the expected number of muons was produced\n",
    "    n_mu = nm\n",
    "    wem = nm * p['mwe']\n",
    "    wee = ne * p['ewe']\n",
    "    we =  wem + wee\n",
    "    vwe = nm * p['mwe'] + ne * p['ewe'] * (1. + ne * p['def']**2 * p['ewe']**2)\n",
    "\n",
    "    vmwe = vwe / n_mu**2\n",
    "    dmwe = np.sqrt(vmwe)/p['mwe']\n",
    "\n",
    "    output = {'nm':nm, 'ne':ne, 'vnm':vnm, 'vne':vne, 'we':we, 'wem':wem, 'wee':wee, 'vwe':vwe, 'vmwe':vmwe, 'dmwe':dmwe}\n",
    "    return output\n",
    "\n",
    "# print the results of the calculation (either normal or verbose)\n",
    "def print_results(o, style='normal'):\n",
    "    if style == 'normal':\n",
    "        print(f\"The beamline muon enriched sample would be expected to contain {o['nm']:0.1f} muon and {o['ne']:0.1f} electron events.\")\n",
    "        print(f\"The WCTE electron selection sample would be expected to have {o['wem']:0.1f} muon + {o['wee']:0.1f} electron events = {o['we']:0.1f} events.\")\n",
    "        print(f\"The one standard relative uncertainty for the WCTE muon mis-identification probability is {o['dmwe']*100.:0.1f}%\")\n",
    "    elif style == 'verbose':\n",
    "        print(f\"nm (expected number of muons in the beamline selection) = {o['nm']:0.4f}\")\n",
    "        print(f\"ne (expected number of electrons in the beamline selection) = {o['ne']:0.4f}\")\n",
    "        print(f\"vnm (variance in RV representing number of muons in the beamline selection) = {o['vnm']:0.4f}\")\n",
    "        print(f\"vne (variance in RV representing number of electrons in the beamline selection) = {o['vne']:0.4f}\")\n",
    "        print(f\"we (expected number of events identified as electrons by WCTE) = {o['we']:0.4f}\")\n",
    "        print(f\"wem (expected number of muon events identified as electrons by WCTE) = {o['wem']:0.4f}\")\n",
    "        print(f\"wee (expected number of electron events identified as electrons by WCTE) = {o['wee']:0.4f}\")\n",
    "        print(f\"vwe (variance in RV representing number of events identified as electrons by WCTE) = {o['vwe']:0.4f}\")\n",
    "        print(f\"vmwe (variance of unbiased estimator for the WCTE $\\mu$ mis-identification probability) = {o['vmwe']:0.4f}\")\n",
    "        print(f\"dmwe (one standard deviation relative uncertainty for the WCTE $\\mu$ mis-identification probability) = {o['dmwe']:0.4f}\")\n",
    "\n",
    "def print_parameters(p):\n",
    "    print(f\"h (number of hours) = {p['h']:0.4f}\")\n",
    "    print(f\"spm (number of spills per minute) = {p['spm']:0.4f}\")\n",
    "    print(f\"mps (number of muons per spill) = {p['mps']:0.4f}\")\n",
    "    print(f\"eps (number of electrons per spill) = {p['eps']:0.4f}\")\n",
    "    print(f\"mt (fraction of muons accepted by trigger (including deadtime effect)) = {p['mt']:0.4f}\")\n",
    "    print(f\"et (fraction of electrons accepted by trigger (including electron veto and deadtime)) = {p['et']:0.4f}\")\n",
    "    print(f\"mf (efficiency for offline selection to accept a triggered muon) = {p['mf']:0.4f}\")\n",
    "    print(f\"dmf (relative one standard deviation uncertainty of the muon selection efficiency  (not important)) = {p['dmf']:0.4f}\")\n",
    "    print(f\"ef (efficiency for offline selection to accept a triggered electron) = {p['ef']:0.4f}\")\n",
    "    print(f\"def (relative one standard deviation uncertainty of the electron selection efficiency  (important)) = {p['def']:0.4f}\")\n",
    "    print(f\"mwe (probability for WCTE to mis-identify a $\\mu$ as an electron) = {p['mwe']:0.4f}\")\n",
    "    print(f\"ewe (probability for WCTE to correctly identify an electron) = {p['ewe']:0.4f}\")\n"
   ]
  },
  {
   "cell_type": "code",
   "execution_count": 4,
   "metadata": {
    "ExecuteTime": {
     "start_time": "2023-11-14T18:09:36.853236Z",
     "end_time": "2023-11-14T18:09:36.863209Z"
    }
   },
   "outputs": [
    {
     "name": "stdout",
     "output_type": "stream",
     "text": [
      "h (number of hours) = 20.0000\n",
      "spm (number of spills per minute) = 2.0000\n",
      "mps (number of muons per spill) = 500.0000\n",
      "eps (number of electrons per spill) = 70000.0000\n",
      "mt (fraction of muons accepted by trigger (including deadtime effect)) = 0.5000\n",
      "et (fraction of electrons accepted by trigger (including electron veto and deadtime)) = 0.0250\n",
      "mf (efficiency for offline selection to accept a triggered muon) = 0.7000\n",
      "dmf (relative one standard deviation uncertainty of the muon selection efficiency  (not important)) = 0.1000\n",
      "ef (efficiency for offline selection to accept a triggered electron) = 0.0000\n",
      "def (relative one standard deviation uncertainty of the electron selection efficiency  (important)) = 0.5000\n",
      "mwe (probability for WCTE to mis-identify a $\\mu$ as an electron) = 0.0010\n",
      "ewe (probability for WCTE to correctly identify an electron) = 0.9000\n",
      "\n",
      "Results:\n",
      "The beamline muon enriched sample would be expected to contain 420000.0 muon and 42.0 electron events.\n",
      "The WCTE electron selection sample would be expected to have 420.0 muon + 37.8 electron events = 457.8 events.\n",
      "The one standard relative uncertainty for the WCTE muon mis-identification probability is 6.6%\n",
      "\n",
      "Results (verbose)\n",
      "nm (expected number of muons in the beamline selection) = 420000.0000\n",
      "ne (expected number of electrons in the beamline selection) = 42.0000\n",
      "vnm (variance in RV representing number of muons in the beamline selection) = 1764420000.0000\n",
      "vne (variance in RV representing number of electrons in the beamline selection) = 483.0000\n",
      "we (expected number of events identified as electrons by WCTE) = 457.8000\n",
      "wem (expected number of muon events identified as electrons by WCTE) = 420.0000\n",
      "wee (expected number of electron events identified as electrons by WCTE) = 37.8000\n",
      "vwe (variance in RV representing number of events identified as electrons by WCTE) = 779.2890\n",
      "vmwe (variance of unbiased estimator for the WCTE $\\mu$ mis-identification probability) = 0.0000\n",
      "dmwe (one standard deviation relative uncertainty for the WCTE $\\mu$ mis-identification probability) = 0.0665\n"
     ]
    }
   ],
   "source": [
    "my_pars = copy.copy(default_parameters)\n",
    "\n",
    "# print parameters\n",
    "print_parameters(my_pars)\n",
    "\n",
    "# do calculation\n",
    "output = calculate(my_pars)\n",
    "\n",
    "print()\n",
    "print('Results:')\n",
    "print_results(output,style='normal')\n",
    "\n",
    "print()\n",
    "print('Results (verbose)')\n",
    "print_results(output,style='verbose')"
   ]
  },
  {
   "cell_type": "code",
   "execution_count": 5,
   "metadata": {
    "ExecuteTime": {
     "start_time": "2023-11-14T18:09:40.278433Z",
     "end_time": "2023-11-14T18:09:40.287409Z"
    }
   },
   "outputs": [
    {
     "name": "stdout",
     "output_type": "stream",
     "text": [
      "The beamline muon enriched sample would be expected to contain 420000.0 muon and 42.0 electron events.\n",
      "The WCTE electron selection sample would be expected to have 420.0 muon + 37.8 electron events = 457.8 events.\n",
      "The one standard relative uncertainty for the WCTE muon mis-identification probability is 6.6%\n"
     ]
    }
   ],
   "source": [
    "my_pars = copy.copy(default_parameters)\n",
    "my_pars['h'] = 20\n",
    "print_results(calculate(my_pars))"
   ]
  },
  {
   "cell_type": "code",
   "execution_count": 6,
   "metadata": {
    "ExecuteTime": {
     "start_time": "2023-11-14T18:09:48.846861Z",
     "end_time": "2023-11-14T18:09:48.984521Z"
    }
   },
   "outputs": [
    {
     "data": {
      "text/plain": "<Figure size 640x480 with 1 Axes>",
      "image/png": "[encoded data removed]"
     },
     "metadata": {},
     "output_type": "display_data"
    }
   ],
   "source": [
    "my_pars = copy.copy(default_parameters)\n",
    "hours = np.arange(4.,100.,1.)\n",
    "dmwes = []\n",
    "for h in hours:\n",
    "    my_pars['h'] = h\n",
    "    dmwes.append(calculate(my_pars)['dmwe'])\n",
    "\n",
    "plt.plot(hours,dmwes)\n",
    "plt.xlabel('run hours')\n",
    "plt.ylabel('relative uncertainty for WCTE muon mis-id')\n",
    "plt.show()"
   ]
  },
  {
   "cell_type": "code",
   "execution_count": null,
   "outputs": [],
   "source": [],
   "metadata": {
    "collapsed": false
   }
  }
 ],
 "metadata": {
  "kernelspec": {
   "display_name": "Python 3 (ipykernel)",
   "language": "python",
   "name": "python3"
  },
  "language_info": {
   "codemirror_mode": {
    "name": "ipython",
    "version": 3
   },
   "file_extension": ".py",
   "mimetype": "text/x-python",
   "name": "python",
   "nbconvert_exporter": "python",
   "pygments_lexer": "ipython3",
   "version": "3.9.5"
  }
 },
 "nbformat": 4,
 "nbformat_minor": 1
}
